{
 "cells": [
  {
   "cell_type": "markdown",
   "metadata": {},
   "source": [
    "To prove the formula for finding the number of microstates for each macrostate, we first note that there is a one-to-one correspondance between the number of microstates for a given macrostate of q energy units and N oscillators and sequences of q 0s and N-1 1s, where the number of 0s between each 1 represents energy units in an oscillator.\n",
    "Thus, the number of microstates is simply the number of such sequences.\n",
    "\n",
    "We count these sequences:\n",
    "Consider a sequence of $q + N - 1$ empty boxes.\n",
    "We fill $N-1$ of these boxes with 1s, of which there are $\\binom{q+N-1}{N-1}$ possibilities.\n",
    "The remaining boxes are then filled with 0s. \n",
    "By properties of binomial coefficients, $\\binom{q+N-1}{N-1}$ is equal to $\\binom{q+N-1}{q}$.\n",
    "Thus,\n",
    "$$\\Omega(N, q) = \\binom{q+N-1}{q} = \\frac{(q+N-1)!}{q!(N-1)!}$$."
   ]
  },
  {
   "cell_type": "code",
   "execution_count": 39,
   "metadata": {},
   "outputs": [],
   "source": [
    "#This function takes as input a positive integer and returns the factorial of that integer. \n",
    "#Input: (Positive) integer\n",
    "#Output: (Positive) integer\n",
    "\n",
    "def fact(num):\n",
    "    \"We need to check that num is a positive integer or 0.\"\n",
    "    i = num\n",
    "    if num == 0:\n",
    "        return 1\n",
    "    if num > 0:\n",
    "        while i > 1:\n",
    "            i = i - 1\n",
    "            num = num * i \n",
    "        return num\n",
    "    if num < 0:\n",
    "        return 0\n",
    "\n",
    "        "
   ]
  },
  {
   "cell_type": "code",
   "execution_count": 19,
   "metadata": {},
   "outputs": [],
   "source": [
    "#This function takes as input two positive integers n and k, checks that n is greater than or equal to k, and returns\n",
    "#the binomial coefficient bino(n,k) or n choose k.\n",
    "#Input: Two positive integers\n",
    "#Output: Positive integer\n",
    "\n",
    "def bino(n, k):\n",
    "    \"We need to make sure that n is greater than or equal to k.\"\n",
    "    if n >= k:\n",
    "        num = fact(n)\n",
    "        denom = fact(k) * fact(n-k)\n",
    "        return num//denom\n",
    "    if n < k:\n",
    "        return 0"
   ]
  },
  {
   "cell_type": "code",
   "execution_count": 37,
   "metadata": {},
   "outputs": [
    {
     "name": "stdout",
     "output_type": "stream",
     "text": [
      "Please enter the number of energy units: 5\n",
      "Please enter the number of oscillators: 3\n",
      "\n",
      "The number of energy units is 5 .\n",
      "The number of oscillators is 3 .\n",
      "The number of microstates for this macrostate is 21 .\n"
     ]
    }
   ],
   "source": [
    "#The user will enter a positive integer for the number of energy units and a positive integer for the number of oscillators.\n",
    "#The program will then compute the number of microstates for that macrostate and output that number.\n",
    "\n",
    "q = int(input(\"Please enter the number of energy units: \"))\n",
    "while fact(q) == 0:\n",
    "    print(\"That is an invalid entry.\")\n",
    "    q = int(input(\"Please enter the number of energy units: \"))\n",
    "\n",
    "N = int(input(\"Please enter the number of oscillators: \"))\n",
    "while fact(N) == 0:\n",
    "    print(\"That is an invalid entry.\")\n",
    "    N = int(input(\"Please enter the number of oscillators: \")) \n",
    "    \n",
    "print(\"\")\n",
    "print(\"The number of energy units is\", q,\".\")    \n",
    "print(\"The number of oscillators is\", N,\".\")\n",
    "print(\"The number of microstates for this macrostate is\", bino(q+N-1, q),\".\")"
   ]
  },
  {
   "cell_type": "code",
   "execution_count": null,
   "metadata": {},
   "outputs": [],
   "source": []
  }
 ],
 "metadata": {
  "kernelspec": {
   "display_name": "Python 3",
   "language": "python",
   "name": "python3"
  },
  "language_info": {
   "codemirror_mode": {
    "name": "ipython",
    "version": 3
   },
   "file_extension": ".py",
   "mimetype": "text/x-python",
   "name": "python",
   "nbconvert_exporter": "python",
   "pygments_lexer": "ipython3",
   "version": "3.6.5"
  }
 },
 "nbformat": 4,
 "nbformat_minor": 2
}
